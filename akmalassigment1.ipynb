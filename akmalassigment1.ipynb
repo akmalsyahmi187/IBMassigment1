{
 "cells": [
  {
   "cell_type": "markdown",
   "id": "285b190f-f7e4-4ebe-af1b-060974d5fd4a",
   "metadata": {},
   "source": [
    "# My Jupyter Notebook By IBM Watson Studio"
   ]
  },
  {
   "cell_type": "markdown",
   "id": "b4b4f3c1-17a5-49d3-816e-1785164c1bdf",
   "metadata": {},
   "source": [
    "**Akmal Syahmi Bin Basri**\n",
    "\n",
    "Senior Aircraft Techncian"
   ]
  },
  {
   "cell_type": "markdown",
   "id": "b872fc87-7950-40f8-9958-cbdddc9a852a",
   "metadata": {},
   "source": [
    "---\n",
    "*I'm intrested in Data Science because it could crate inside data with statistic knowledge using programming code*\n",
    "\n",
    "---"
   ]
  },
  {
   "cell_type": "markdown",
   "id": "46866a62-e8da-4ca1-bdd9-c55a33f2eed8",
   "metadata": {},
   "source": [
    "### The following code test the gauss formula"
   ]
  },
  {
   "cell_type": "code",
   "execution_count": 10,
   "id": "60e2c0b2-c26f-42b1-a68d-ff7ff7fd93c4",
   "metadata": {},
   "outputs": [
    {
     "data": {
      "text/plain": [
       "True"
      ]
     },
     "execution_count": 10,
     "metadata": {},
     "output_type": "execute_result"
    }
   ],
   "source": [
    "def gauss(n):\n",
    "    return (n*(n+1))/2\n",
    "gauss(100) == sum(range(101))"
   ]
  },
  {
   "cell_type": "markdown",
   "id": "b824265d-52d7-4c9c-ab37-3ef4cbd5ff8a",
   "metadata": {},
   "source": [
    "\n",
    "---"
   ]
  },
  {
   "cell_type": "markdown",
   "id": "4ce1a300-fa1c-42ca-a6a1-0a544085e5cb",
   "metadata": {},
   "source": [
    "* one\n",
    "\n",
    "* two\n",
    "\n",
    "* three\n",
    "\n",
    "* ~~four~~"
   ]
  },
  {
   "cell_type": "markdown",
   "id": "52a487a6-ccd4-4b2f-b839-b08e8f319055",
   "metadata": {},
   "source": [
    "---"
   ]
  },
  {
   "cell_type": "code",
   "execution_count": null,
   "id": "6d031362-fba2-45d7-83b8-6a3895bb6211",
   "metadata": {},
   "outputs": [],
   "source": []
  }
 ],
 "metadata": {
  "kernelspec": {
   "display_name": "Python",
   "language": "python",
   "name": "conda-env-python-py"
  },
  "language_info": {
   "codemirror_mode": {
    "name": "ipython",
    "version": 3
   },
   "file_extension": ".py",
   "mimetype": "text/x-python",
   "name": "python",
   "nbconvert_exporter": "python",
   "pygments_lexer": "ipython3",
   "version": "3.7.12"
  }
 },
 "nbformat": 4,
 "nbformat_minor": 5
}
